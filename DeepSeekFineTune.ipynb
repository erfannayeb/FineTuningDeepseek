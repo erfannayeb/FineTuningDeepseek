{
  "nbformat": 4,
  "nbformat_minor": 0,
  "metadata": {
    "colab": {
      "provenance": [],
      "gpuType": "T4"
    },
    "kernelspec": {
      "name": "python3",
      "display_name": "Python 3"
    },
    "language_info": {
      "name": "python"
    },
    "accelerator": "GPU"
  },
  "cells": [
    {
      "cell_type": "markdown",
      "source": [
        "# **Fine-Tuning DeepSeek for Occupational Diseas**"
      ],
      "metadata": {
        "id": "Cre2eDUxDV2T"
      }
    },
    {
      "cell_type": "markdown",
      "source": [
        "### Imports"
      ],
      "metadata": {
        "id": "kHJFrPtvDN_L"
      }
    },
    {
      "cell_type": "code",
      "execution_count": null,
      "metadata": {
        "collapsed": true,
        "id": "zAvWyAdVWCcz"
      },
      "outputs": [],
      "source": [
        "%%capture\n",
        "\n",
        "!pip install unsloth\n",
        "!pip install --force-reinstall --no-cache-dir --no-deps git+https://github.com/unslothai/unsloth.git"
      ]
    },
    {
      "cell_type": "code",
      "source": [
        "from unsloth import FastLanguageModel\n",
        "import torch\n",
        "from trl import SFTTrainer\n",
        "from unsloth import is_bfloat16_supported\n",
        "from huggingface_hub import login\n",
        "from transformers import TrainingArguments\n",
        "from datasets import load_dataset\n",
        "import wandb\n",
        "from google.colab import userdata"
      ],
      "metadata": {
        "id": "A9lKsrO2tMw3"
      },
      "execution_count": null,
      "outputs": []
    },
    {
      "cell_type": "markdown",
      "source": [
        "### Adding Tokens"
      ],
      "metadata": {
        "id": "dDF4ZwbmDq3S"
      }
    },
    {
      "cell_type": "code",
      "source": [
        "hugging_face_token = userdata.get('HF_token')\n",
        "wnb_token = userdata.get('wandb')\n",
        "\n",
        "login(hugging_face_token)\n",
        "\n",
        "wandb.login(key=wnb_token)\n",
        "run = wandb.init(\n",
        "    project='Fine-tuning DeepSeek',\n",
        "    job_type=\"training\",\n",
        "    anonymous=\"allow\"\n",
        ")"
      ],
      "metadata": {
        "id": "cS2rAnVFy06M"
      },
      "execution_count": null,
      "outputs": []
    },
    {
      "cell_type": "markdown",
      "source": [
        "### Loading The Model"
      ],
      "metadata": {
        "id": "I88wKCIKEEgI"
      }
    },
    {
      "cell_type": "code",
      "source": [
        "max_seq_length = 2048\n",
        "dtype = None\n",
        "load_in_4bit = True\n",
        "\n",
        "model, tokenizer = FastLanguageModel.from_pretrained(\n",
        "    model_name=\"unsloth/DeepSeek-R1-Distill-Llama-8B\",\n",
        "    max_seq_length=max_seq_length,\n",
        "    dtype=dtype,\n",
        "    load_in_4bit=load_in_4bit,\n",
        "    token=hugging_face_token,\n",
        ")"
      ],
      "metadata": {
        "id": "1t1QrGCDtjFL"
      },
      "execution_count": null,
      "outputs": []
    },
    {
      "cell_type": "markdown",
      "source": [
        "### Definining System Prompt"
      ],
      "metadata": {
        "id": "QIjIyoLiENam"
      }
    },
    {
      "cell_type": "code",
      "source": [
        "# Define a system prompt under prompt_style\n",
        "prompt_style = \"\"\"Below is an instruction that describes a task, paired with an input that provides further context.\n",
        "Write a response that appropriately completes the request.\n",
        "Before answering, think carefully about the question and create a step-by-step chain of thoughts to ensure a logical and accurate response.\n",
        "\n",
        "### Instruction:\n",
        "You are a medical expert with advanced knowledge in clinical reasoning, diagnostics, and treatment planning.\n",
        "Please answer the following medical question.\n",
        "\n",
        "### Question:\n",
        "{}\n",
        "\n",
        "### Response:\n",
        "<think>{}\"\"\""
      ],
      "metadata": {
        "id": "tbNguey_QFMB"
      },
      "execution_count": null,
      "outputs": []
    },
    {
      "cell_type": "code",
      "source": [
        "## Updated training prompt style to add </think> tag\n",
        "train_prompt_style = \"\"\"Below is an instruction that describes a task, paired with an input that provides further context.\n",
        "Write a response that appropriately completes the request.\n",
        "Before answering, think carefully about the question and create a step-by-step chain of thoughts to ensure a logical and accurate response.\n",
        "\n",
        "### Instruction:\n",
        "You are an HSE (Health, Safety, and Environment) expert with advanced knowledge in occupational health, safety regulations, risk assessment, hazard control, and environmental protection.\n",
        "\n",
        "### Question:\n",
        "{}\n",
        "\n",
        "### Response:\n",
        "<think>\n",
        "{}\n",
        "</think>\n",
        "{}\"\"\"\n"
      ],
      "metadata": {
        "id": "J3oAEG46_yWS"
      },
      "execution_count": null,
      "outputs": []
    },
    {
      "cell_type": "markdown",
      "source": [
        "### Loading Dataset for Fine-Tuning"
      ],
      "metadata": {
        "id": "9PWgHKmAEbqw"
      }
    },
    {
      "cell_type": "code",
      "source": [
        "dataset = load_dataset(\"FreedomIntelligence/medical-o1-reasoning-SFT\",\"en\", split = \"train[0:500]\",trust_remote_code=True) # Keep only first 500 rows\n",
        "dataset"
      ],
      "metadata": {
        "id": "9jg9OX4rB5ri"
      },
      "execution_count": null,
      "outputs": []
    },
    {
      "cell_type": "code",
      "source": [
        "dataset[1]"
      ],
      "metadata": {
        "colab": {
          "base_uri": "https://localhost:8080/"
        },
        "id": "E-ODqUCLB9Ae",
        "outputId": "562df0e6-e406-495b-ccb8-37feeaf8c1a8"
      },
      "execution_count": null,
      "outputs": [
        {
          "output_type": "execute_result",
          "data": {
            "text/plain": [
              "{'Question': 'A 45-year-old man with a history of alcohol use, who has been abstinent for the past 10 years, presents with sudden onset dysarthria, shuffling gait, and intention tremors. Given this clinical presentation and history, what is the most likely diagnosis?',\n",
              " 'Complex_CoT': \"Alright, let’s break this down. We have a 45-year-old man here, who suddenly starts showing some pretty specific symptoms: dysarthria, shuffling gait, and those intention tremors. This suggests something's going wrong with motor control, probably involving the cerebellum or its connections.\\n\\nNow, what's intriguing is that he's had a history of alcohol use, but he's been off it for the past 10 years. Alcohol can do a number on the cerebellum, leading to degeneration, and apparently, the effects can hang around or even appear long after one stops drinking.\\n\\nAt first glance, these symptoms look like they could be some kind of chronic degeneration, maybe something like alcoholic cerebellar degeneration, but hold on. This looks different. The symptoms just came on all of a sudden. Chronic degenerations typically have a more gradual onset.\\n\\nOkay, let’s reconsider this sudden nature. It’s making me think of something more acute, more rapid onset. Hmm, if we dig back into his history of drinking, there might have been some damage done, leading to nutritional deficiencies, like a lack of thiamine.\\n\\nWernicke’s encephalopathy is a classic possibility here. That condition pops up due to thiamine deficiency, often after a history of alcohol use. It’s known for causing ataxia, confusion, and eye movement issues. However, he’s not showing the full triad of symptoms; there's no mention of confusion or eye problems, so maybe it doesn’t fit perfectly.\\n\\nOh, wait a second, maybe we're missing something simpler. Given the acute nature of the symptoms, maybe this is more in line with something like a stroke. Sudden onset can definitely suggest a vascular event. With his alcohol history, he’s at risk for things like high blood pressure, which can increase stroke risk.\\n\\nIn particular, lacunar strokes can mess with motor coordination, speech, the works. These are small, but significant enough to cause these exact symptoms: dysarthria, tremors, and a shuffling gait.\\n\\nBut hang on, what if there’s another angle we’re missing? Chronic alcohol effects might still play a role here, just in a different way. There’s a condition called acquired hepatocerebral degeneration. This can happen in people with a history of liver disease due to alcohol, even years after they’ve quit. It can result in symptoms like these because of how substances get deposited in the brain.\\n\\nLinking this back to our patient, his history with alcohol could’ve led to some liver issues, and now, here we are with these symptoms showing up suddenly. Makes sense, right? So, considering everything, acquired hepatocerebral degeneration seems to fit quite nicely. That’s probably our most fitting diagnosis for this situation.\",\n",
              " 'Response': \"Considering the clinical presentation of sudden onset dysarthria, shuffling gait, and intention tremors in a 45-year-old man with a history of alcohol use who has been abstinent for the past 10 years, the most likely diagnosis is acquired hepatocerebral degeneration.\\n\\nThis condition is associated with chronic liver disease, which can often be a consequence of long-term alcohol use. Despite the patient's abstinence from alcohol for a decade, previous alcohol use may have led to underlying liver dysfunction. This dysfunction, even if subclinical, can cause encephalopathy due to the accumulation of neurotoxic substances that affect the brain. The sudden onset of these neurological symptoms aligns with how acquired hepatocerebral degeneration can manifest, making it a probable diagnosis in this scenario.\"}"
            ]
          },
          "metadata": {},
          "execution_count": 7
        }
      ]
    },
    {
      "cell_type": "code",
      "source": [
        "# Define EOS_TOKEN which the model when to stop generating text during training\n",
        "EOS_TOKEN = tokenizer.eos_token\n",
        "EOS_TOKEN"
      ],
      "metadata": {
        "id": "8cnbfDTJB-hZ"
      },
      "execution_count": null,
      "outputs": []
    },
    {
      "cell_type": "code",
      "source": [
        "def formatting_prompts_func(examples):\n",
        "    inputs = examples[\"Question\"]\n",
        "    cots = examples[\"Complex_CoT\"]\n",
        "    outputs = examples[\"Response\"]\n",
        "\n",
        "    texts = []\n",
        "\n",
        "    for input, cot, output in zip(inputs, cots, outputs):\n",
        "        text = train_prompt_style.format(input, cot, output) + EOS_TOKEN\n",
        "        texts.append(text)\n",
        "\n",
        "    return {\n",
        "        \"text\": texts,\n",
        "    }"
      ],
      "metadata": {
        "id": "Ed4xYizJB_9K"
      },
      "execution_count": null,
      "outputs": []
    },
    {
      "cell_type": "code",
      "source": [
        "dataset_finetune = dataset.map(formatting_prompts_func, batched = True)\n",
        "dataset_finetune[\"text\"][0]"
      ],
      "metadata": {
        "id": "57-9QK0uIna_"
      },
      "execution_count": null,
      "outputs": []
    },
    {
      "cell_type": "markdown",
      "source": [
        "### Applying LoRA"
      ],
      "metadata": {
        "id": "d1OlPNz_EmyH"
      }
    },
    {
      "cell_type": "code",
      "source": [
        "model_lora = FastLanguageModel.get_peft_model(\n",
        "    model,\n",
        "    r=16,\n",
        "    target_modules=[\n",
        "        \"q_proj\",   # Query projection\n",
        "        \"k_proj\",   # Key projection\n",
        "        \"v_proj\",   # Value projection\n",
        "        \"o_proj\",   # Output projection\n",
        "        \"gate_proj\",\n",
        "        \"up_proj\",\n",
        "        \"down_proj\",\n",
        "    ],\n",
        "    lora_alpha=16,\n",
        "    lora_dropout=0,\n",
        "    bias=\"none\",\n",
        "    use_gradient_checkpointing=\"unsloth\",\n",
        "    random_state=3407,\n",
        "    use_rslora=False,\n",
        "    loftq_config=None,\n",
        ")"
      ],
      "metadata": {
        "id": "7PltziWFIqL7"
      },
      "execution_count": null,
      "outputs": []
    },
    {
      "cell_type": "markdown",
      "source": [
        "### Train The Model"
      ],
      "metadata": {
        "id": "dsTwlgSXGAi6"
      }
    },
    {
      "cell_type": "code",
      "source": [
        "trainer = SFTTrainer(\n",
        "    model=model_lora,\n",
        "    tokenizer=tokenizer,\n",
        "    train_dataset=dataset_finetune,\n",
        "    dataset_text_field=\"text\",\n",
        "    max_seq_length=max_seq_length,\n",
        "    dataset_num_proc=2,\n",
        "\n",
        "    args=TrainingArguments(\n",
        "        per_device_train_batch_size=2,\n",
        "        gradient_accumulation_steps=4,\n",
        "        num_train_epochs=1,\n",
        "        warmup_steps=5,\n",
        "        max_steps=60,\n",
        "        learning_rate=2e-4,\n",
        "        fp16=not is_bfloat16_supported(),\n",
        "        logging_steps=10,\n",
        "        optim=\"adamw_8bit\",\n",
        "        weight_decay=0.01,\n",
        "        lr_scheduler_type=\"linear\",\n",
        "        seed=3407,\n",
        "        output_dir=\"outputs\",\n",
        "    ),\n",
        ")\n"
      ],
      "metadata": {
        "id": "u2Fyes8OIxTS"
      },
      "execution_count": null,
      "outputs": []
    },
    {
      "cell_type": "code",
      "source": [
        "trainer_stats = trainer.train()"
      ],
      "metadata": {
        "colab": {
          "base_uri": "https://localhost:8080/",
          "height": 405
        },
        "id": "2i6f8bfzIzoU",
        "outputId": "3475b695-6804-4a2d-c36f-48282a07e61e"
      },
      "execution_count": null,
      "outputs": [
        {
          "output_type": "stream",
          "name": "stderr",
          "text": [
            "==((====))==  Unsloth - 2x faster free finetuning | Num GPUs used = 1\n",
            "   \\\\   /|    Num examples = 500 | Num Epochs = 1 | Total steps = 60\n",
            "O^O/ \\_/ \\    Batch size per device = 2 | Gradient accumulation steps = 4\n",
            "\\        /    Data Parallel GPUs = 1 | Total batch size (2 x 4 x 1) = 8\n",
            " \"-____-\"     Trainable parameters = 41,943,040/8,000,000,000 (0.52% trained)\n",
            "\u001b[34m\u001b[1mwandb\u001b[0m: \u001b[33mWARNING\u001b[0m The `run_name` is currently set to the same value as `TrainingArguments.output_dir`. If this was not intended, please specify a different run name by setting the `TrainingArguments.run_name` parameter.\n"
          ]
        },
        {
          "output_type": "stream",
          "name": "stdout",
          "text": [
            "Unsloth: Will smartly offload gradients to save VRAM!\n"
          ]
        },
        {
          "output_type": "display_data",
          "data": {
            "text/plain": [
              "<IPython.core.display.HTML object>"
            ],
            "text/html": [
              "\n",
              "    <div>\n",
              "      \n",
              "      <progress value='60' max='60' style='width:300px; height:20px; vertical-align: middle;'></progress>\n",
              "      [60/60 17:54, Epoch 0/1]\n",
              "    </div>\n",
              "    <table border=\"1\" class=\"dataframe\">\n",
              "  <thead>\n",
              " <tr style=\"text-align: left;\">\n",
              "      <th>Step</th>\n",
              "      <th>Training Loss</th>\n",
              "    </tr>\n",
              "  </thead>\n",
              "  <tbody>\n",
              "    <tr>\n",
              "      <td>10</td>\n",
              "      <td>1.904200</td>\n",
              "    </tr>\n",
              "    <tr>\n",
              "      <td>20</td>\n",
              "      <td>1.454100</td>\n",
              "    </tr>\n",
              "    <tr>\n",
              "      <td>30</td>\n",
              "      <td>1.394600</td>\n",
              "    </tr>\n",
              "    <tr>\n",
              "      <td>40</td>\n",
              "      <td>1.300700</td>\n",
              "    </tr>\n",
              "    <tr>\n",
              "      <td>50</td>\n",
              "      <td>1.335700</td>\n",
              "    </tr>\n",
              "    <tr>\n",
              "      <td>60</td>\n",
              "      <td>1.304800</td>\n",
              "    </tr>\n",
              "  </tbody>\n",
              "</table><p>"
            ]
          },
          "metadata": {}
        }
      ]
    },
    {
      "cell_type": "code",
      "source": [
        "wandb.finish()"
      ],
      "metadata": {
        "id": "vWZN8hmrI2We"
      },
      "execution_count": null,
      "outputs": []
    },
    {
      "cell_type": "markdown",
      "source": [
        "### Run Model Inference"
      ],
      "metadata": {
        "id": "-a-TTX0AGgzZ"
      }
    },
    {
      "cell_type": "code",
      "source": [
        "question = \"\"\"A 48-year-old factory worker with 15 years of experience in a metal fabrication workshop reports developing intermittent shortness of breath and persistent dry cough that worsens during his shift but improves on weekends and holidays. He has no history of asthma or smoking. An occupational health review is initiated, including spirometry and an evaluation of airborne particulate exposure in the workplace.\n",
        "\n",
        "Based on this history, what would spirometry most likely reveal about his lung function, and what workplace hazard should be most strongly suspected?\"\"\"\n",
        "\n",
        "# Load the inference model using FastLanguageModel (Unsloth optimizes for speed)\n",
        "FastLanguageModel.for_inference(model_lora)  # Unsloth has 2x faster inference!\n",
        "\n",
        "# Tokenize the input question with a specific prompt format and move it to the GPU\n",
        "inputs = tokenizer([prompt_style.format(question, \"\")], return_tensors=\"pt\").to(\"cuda\")\n",
        "\n",
        "# Generate a response using LoRA fine-tuned model with specific parameters\n",
        "outputs = model_lora.generate(\n",
        "    input_ids=inputs.input_ids,          # Tokenized input IDs\n",
        "    attention_mask=inputs.attention_mask, # Attention mask for padding handling\n",
        "    max_new_tokens=1200,                  # Maximum length for generated response\n",
        "    use_cache=True,                        # Enable cache for efficient generation\n",
        ")\n",
        "\n",
        "# Decode the generated response from tokenized format to readable text\n",
        "response = tokenizer.batch_decode(outputs)\n",
        "\n",
        "# Extract and print only the model's response part after \"### Response:\"\n",
        "print(response[0].split(\"### Response:\")[1])"
      ],
      "metadata": {
        "colab": {
          "base_uri": "https://localhost:8080/"
        },
        "id": "_gt8VWaCI4CI",
        "outputId": "ed372852-8cef-46f4-a367-d02dfb301b6d"
      },
      "execution_count": null,
      "outputs": [
        {
          "output_type": "stream",
          "name": "stdout",
          "text": [
            "\n",
            "<think>\n",
            "Okay, let's see what we've got here. This guy is 48 years old, works in a metal fabrication shop, and has been doing this for 15 years. That's a good chunk of time. Now, he's telling us about these symptoms: shortness of breath and a persistent dry cough. They come and go, but they seem to get worse when he's at work and then let up when he's not. Hmm, that's interesting. It sounds like something might be going on with his lungs when he's working, but not when he's resting. \n",
            "\n",
            "First off, I'm thinking about what could cause a dry cough and shortness of breath. Asthma comes to mind, but he doesn't have a history of asthma. Also, he doesn't smoke, so we can rule out smoking-related lung issues. That leaves other possibilities, like occupational lung diseases. \n",
            "\n",
            "Now, what are the common occupational lung issues? Well, there'sbyssinosis, silicosis, and pulmonary fibrosis, but I'm thinking more along the lines of something like occupational asthma or hypersensitivity pneumonitis. These can be triggered by specific chemicals or dusts in the workplace. \n",
            "\n",
            "Let's dig deeper into his symptoms. The fact that his symptoms are worse at work suggests that something in his workplace environment is triggering them. The dry cough and shortness of breath could be signs of hypersensitivity pneumonitis, which is often caused by exposure to inhaled organic dusts. \n",
            "\n",
            "When it comes to spirometry, what would it show? In hypersensitivity pneumonitis, you might see a decrease in lung capacity, and there could be a restrictive pattern in the spirometry results. That means the lungs might feel a bit stiff, and he might have lower lung volumes than usual. \n",
            "\n",
            "So, putting it all together, I'm thinking his spirometry would show some restrictive lung changes, possibly indicating hypersensitivity pneumonitis. And given his symptoms and the context of his job, the workplace hazard we'd most strongly suspect is exposure to organic dusts. \n",
            "\n",
            "I should make sure I'm not missing any other possible conditions. For example, could it be something like occupational asthma, or maybe another type of lung disease? But considering his symptom pattern and the fact that they are work-related, hypersensitivity pneumonitis seems to fit best. \n",
            "\n",
            "Alright, I think I've got a good handle on this. Let's go with hypersensitivity pneumonitis for the spirometry findings and organic dust exposure as the workplace hazard. Yep, that makes sense.\n",
            "</think>\n",
            "Based on the history of the 48-year-old factory worker with symptoms of intermittent shortness of breath and persistent dry cough that worsens during work and improves during holidays, the most likely spirometry findings would indicate restrictive lung changes, such as decreased lung capacity and a restrictive pattern. This is consistent with hypersensitivity pneumonitis, which is typically caused by exposure to organic dusts in the workplace. Therefore, the workplace hazard most strongly suspected is exposure to organic dusts.<｜end▁of▁sentence｜>\n"
          ]
        }
      ]
    },
    {
      "cell_type": "markdown",
      "source": [
        "### Save the Model in GGUF Format"
      ],
      "metadata": {
        "id": "O-a_MbuuGovc"
      }
    },
    {
      "cell_type": "code",
      "source": [
        "model_lora.save_pretrained_gguf(\"model\", tokenizer, quantization_method = \"q4_k_m\")"
      ],
      "metadata": {
        "id": "falANyq2VCee"
      },
      "execution_count": null,
      "outputs": []
    }
  ]
}